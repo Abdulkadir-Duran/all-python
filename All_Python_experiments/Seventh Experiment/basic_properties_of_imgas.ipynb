{
 "cells": [
  {
   "cell_type": "code",
   "execution_count": 1,
   "id": "91ee1f28",
   "metadata": {},
   "outputs": [],
   "source": [
    "import cv2"
   ]
  },
  {
   "cell_type": "code",
   "execution_count": null,
   "id": "0e86d2e8",
   "metadata": {},
   "outputs": [],
   "source": [
    "# The function cv2.imread() is used to read an image.\n",
    "\n",
    "img_grayscale = cv2.imread('/Users/boom/Desktop/flower.JPG',0)\n",
    "\n",
    "# The function cv2.imshow() is used to display an image in a window.\n",
    "\n",
    "cv2.imshow('graycsale image', img_grayscale)\n",
    "\n",
    "# waitKey() waits for a key press to close the window and 0 specifies indefinite loop\n",
    "\n",
    "cv2.waitKey(0)\n",
    "# cv2.destroyAllWindows() simply destroys all the windows we created.\n",
    "\n",
    "cv2.destroyAllWindows()\n",
    "\n",
    "# The function cv2.imwrite() is used to write an image.\n",
    "\n",
    "cv2.imwrite('grayscale.jpg', img_grayscale)"
   ]
  },
  {
   "cell_type": "code",
   "execution_count": null,
   "id": "fadfc5a4",
   "metadata": {},
   "outputs": [],
   "source": [
    "# Read an image\n",
    "img_color = cv2.imread('/Users/boom/Desktop/flower.JPG',cv2.IMREAD_COLOR)\n",
    "img_grayscale = cv2.imread('/Users/boom/Desktop/flower.JPG',cv2.IMREAD_GRAYSCALE)\n",
    "img_unchanged = cv2.imread('/Users/boom/Desktop/flower.JPG',cv2.IMREAD_UNCHANGED)"
   ]
  },
  {
   "cell_type": "code",
   "execution_count": null,
   "id": "2da59814",
   "metadata": {},
   "outputs": [],
   "source": [
    "#Displays image inside a window\n",
    "cv2.imshow('color image',img_color)  \n",
    "cv2.imshow('grayscale image',img_grayscale)\n",
    "cv2.imshow('unchanged image',img_unchanged)\n",
    "\n",
    "# Waits for a keystroke\n",
    "cv2.waitKey(0)  \n",
    "\n",
    "# Destroys all the windows created\n",
    "cv2.destroyAllwindows() "
   ]
  },
  {
   "cell_type": "code",
   "execution_count": null,
   "id": "61d05a0d",
   "metadata": {},
   "outputs": [],
   "source": [
    "#Python OpenCV cv2 Resize Image\n",
    "src = cv2.imread('/Users/boom/Desktop/flower.JPG', cv2.IMREAD_UNCHANGED)\n",
    "\n",
    "#percent by which the image is resized\n",
    "scale_percent = 50\n",
    "\n",
    "#calculate the 50 percent of original dimensions\n",
    "width = int(src.shape[1] * scale_percent / 100)\n",
    "height = int(src.shape[0] * scale_percent / 100)\n",
    "\n",
    "# dsize\n",
    "dsize = (width, height)\n",
    "\n",
    "# resize image\n",
    "output = cv2.resize(src, dsize)\n",
    "\n",
    "cv2.imwrite('/Users/boom/Desktop/flower_resized.JPG',output)"
   ]
  },
  {
   "cell_type": "code",
   "execution_count": null,
   "id": "ae30b35d",
   "metadata": {},
   "outputs": [],
   "source": [
    "#resize image horizontally\n",
    "src = cv2.imread('/Users/boom/Desktop/flower.JPG', cv2.IMREAD_UNCHANGED)\n",
    "\n",
    "# set a new width in pixels\n",
    "new_width = 300\n",
    "\n",
    "# dsize\n",
    "dsize = (new_width, src.shape[0])\n",
    "\n",
    "# resize image\n",
    "output = cv2.resize(src, dsize, interpolation=cv2.INTER_AREA)\n",
    "\n",
    "cv2.imwrite('/Users/boom/Desktop/flower_horizontally_resized.JPG', output)\n"
   ]
  },
  {
   "cell_type": "code",
   "execution_count": null,
   "id": "4399a8bf",
   "metadata": {},
   "outputs": [],
   "source": [
    "#resize image vertically\n",
    "src = cv2.imread('/Users/boom/Desktop/flower.JPG', cv2.IMREAD_UNCHANGED)\n",
    "\n",
    "# set a new height in pixels\n",
    "new_height = 200\n",
    "\n",
    "# dsize\n",
    "dsize = (src.shape[1], new_height)\n",
    "\n",
    "# resize image\n",
    "output = cv2.resize(src, dsize, interpolation = cv2.INTER_AREA)\n",
    "\n",
    "cv2.imwrite('/Users/boom/Desktop/flower_rezise_vertically.JPG',output)"
   ]
  },
  {
   "cell_type": "code",
   "execution_count": null,
   "id": "0dc15f32",
   "metadata": {},
   "outputs": [],
   "source": []
  }
 ],
 "metadata": {
  "kernelspec": {
   "display_name": "Python 3 (ipykernel)",
   "language": "python",
   "name": "python3"
  },
  "language_info": {
   "codemirror_mode": {
    "name": "ipython",
    "version": 3
   },
   "file_extension": ".py",
   "mimetype": "text/x-python",
   "name": "python",
   "nbconvert_exporter": "python",
   "pygments_lexer": "ipython3",
   "version": "3.9.12"
  }
 },
 "nbformat": 4,
 "nbformat_minor": 5
}
