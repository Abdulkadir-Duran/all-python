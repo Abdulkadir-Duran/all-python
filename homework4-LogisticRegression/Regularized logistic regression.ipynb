{
 "cells": [
  {
   "cell_type": "markdown",
   "id": "5a627212",
   "metadata": {},
   "source": [
    "# ABDULKADIR DURAN ADAN"
   ]
  },
  {
   "cell_type": "code",
   "execution_count": null,
   "id": "3df74c9b",
   "metadata": {},
   "outputs": [],
   "source": [
    "import numpy as np\n",
    "import pandas as pd\n",
    "import seaborn as sns\n",
    "import matplotlib.pyplot as plt\n",
    "%matplotlib inline"
   ]
  },
  {
   "cell_type": "code",
   "execution_count": 94,
   "id": "d7862fa1",
   "metadata": {},
   "outputs": [
    {
     "data": {
      "text/html": [
       "<div>\n",
       "<style scoped>\n",
       "    .dataframe tbody tr th:only-of-type {\n",
       "        vertical-align: middle;\n",
       "    }\n",
       "\n",
       "    .dataframe tbody tr th {\n",
       "        vertical-align: top;\n",
       "    }\n",
       "\n",
       "    .dataframe thead th {\n",
       "        text-align: right;\n",
       "    }\n",
       "</style>\n",
       "<table border=\"1\" class=\"dataframe\">\n",
       "  <thead>\n",
       "    <tr style=\"text-align: right;\">\n",
       "      <th></th>\n",
       "      <th>count</th>\n",
       "      <th>mean</th>\n",
       "      <th>std</th>\n",
       "      <th>min</th>\n",
       "      <th>25%</th>\n",
       "      <th>50%</th>\n",
       "      <th>75%</th>\n",
       "      <th>max</th>\n",
       "    </tr>\n",
       "  </thead>\n",
       "  <tbody>\n",
       "    <tr>\n",
       "      <th>Test 1</th>\n",
       "      <td>118.0</td>\n",
       "      <td>0.054779</td>\n",
       "      <td>0.496654</td>\n",
       "      <td>-0.83007</td>\n",
       "      <td>-0.372120</td>\n",
       "      <td>-0.006336</td>\n",
       "      <td>0.478970</td>\n",
       "      <td>1.0709</td>\n",
       "    </tr>\n",
       "    <tr>\n",
       "      <th>Test 2</th>\n",
       "      <td>118.0</td>\n",
       "      <td>0.183102</td>\n",
       "      <td>0.519743</td>\n",
       "      <td>-0.76974</td>\n",
       "      <td>-0.254385</td>\n",
       "      <td>0.213455</td>\n",
       "      <td>0.646563</td>\n",
       "      <td>1.1089</td>\n",
       "    </tr>\n",
       "    <tr>\n",
       "      <th>Accepted</th>\n",
       "      <td>118.0</td>\n",
       "      <td>0.491525</td>\n",
       "      <td>0.502060</td>\n",
       "      <td>0.00000</td>\n",
       "      <td>0.000000</td>\n",
       "      <td>0.000000</td>\n",
       "      <td>1.000000</td>\n",
       "      <td>1.0000</td>\n",
       "    </tr>\n",
       "  </tbody>\n",
       "</table>\n",
       "</div>"
      ],
      "text/plain": [
       "          count      mean       std      min       25%       50%       75%  \\\n",
       "Test 1    118.0  0.054779  0.496654 -0.83007 -0.372120 -0.006336  0.478970   \n",
       "Test 2    118.0  0.183102  0.519743 -0.76974 -0.254385  0.213455  0.646563   \n",
       "Accepted  118.0  0.491525  0.502060  0.00000  0.000000  0.000000  1.000000   \n",
       "\n",
       "             max  \n",
       "Test 1    1.0709  \n",
       "Test 2    1.1089  \n",
       "Accepted  1.0000  "
      ]
     },
     "execution_count": 94,
     "metadata": {},
     "output_type": "execute_result"
    }
   ],
   "source": [
    "data2 = pd.read_csv('/Users/boom/Desktop/homework4-LogisticRegression/ex2data2.txt', sep=',', header=None, names=['Test 1', 'Test 2', 'Accepted'] )\n",
    "\n",
    "\n",
    "data2.describe().T\n"
   ]
  },
  {
   "cell_type": "code",
   "execution_count": 117,
   "id": "25bd64a8",
   "metadata": {},
   "outputs": [
    {
     "data": {
      "text/plain": [
       "Text(0, 0.5, 'Microchip Test 2')"
      ]
     },
     "execution_count": 117,
     "metadata": {},
     "output_type": "execute_result"
    },
    {
     "data": {
      "image/png": "[encoded data removed]",
      "text/plain": [
       "<Figure size 648x504 with 1 Axes>"
      ]
     },
     "metadata": {
      "needs_background": "light"
     },
     "output_type": "display_data"
    }
   ],
   "source": [
    "positive = data2[data2['Accepted'].isin([1])]\n",
    "negative = data2[data2['Accepted'].isin([0])]\n",
    "\n",
    "fig, ax = plt.subplots(figsize=(9,7))\n",
    "ax.scatter(positive['Test 1'], positive['Test 2'], s=50, c='b', marker='o', label='Accepted')\n",
    "ax.scatter(negative['Test 1'], negative['Test 2'], s=50, c='r', marker='+', label='Rejected')\n",
    "ax.legend()\n",
    "ax.set_xlabel('Microchip Test 1')\n",
    "ax.set_ylabel('Microchip Test 2')"
   ]
  },
  {
   "cell_type": "code",
   "execution_count": 118,
   "id": "ef4c44b1",
   "metadata": {},
   "outputs": [],
   "source": [
    "def map_feature(X1, X2, degree):\n",
    "    X1 = np.array(X1).reshape(-1,1)\n",
    "    X2 = np.array(X2).reshape(-1,1)\n",
    "    \n",
    "    out = np.ones((X1.shape[0], 1))\n",
    "    for i in range(1, degree+1):\n",
    "        for j in range(0, i+1):\n",
    "            p = (X1**(i-j)) * (X2**j)\n",
    "            out = np.append(out, p, axis=1)\n",
    "    return out"
   ]
  },
  {
   "cell_type": "code",
   "execution_count": 119,
   "id": "82d4acd6",
   "metadata": {},
   "outputs": [
    {
     "data": {
      "text/plain": [
       "(118, 28)"
      ]
     },
     "execution_count": 119,
     "metadata": {},
     "output_type": "execute_result"
    }
   ],
   "source": [
    "X_p = map_feature(df2.test_1.values, df2.test_2.values, 6)\n",
    "X_p.shape"
   ]
  },
  {
   "cell_type": "code",
   "execution_count": 142,
   "id": "3b30b034",
   "metadata": {},
   "outputs": [],
   "source": [
    "def costFunctionReg(theta, X, y, lambda_):\n",
    "   \n",
    "    m = y.size  \n",
    "    J = 0\n",
    "    grad = np.zeros(theta.shape)\n",
    "\n",
    "    J =  1/m * np.sum((-y * np.log(hyp)) + (-(1 - y) * np.log(1 - hyp))) + lambda_ / (2 * m) * np.sum(np.square(theta[1:]))\n",
    "    \n",
    "    grad = 1/m * np.dot(X.T, (hyp - y)) \n",
    "\n",
    "    return J, grad"
   ]
  },
  {
   "cell_type": "code",
   "execution_count": 144,
   "id": "0fb137e5",
   "metadata": {},
   "outputs": [
    {
     "name": "stdout",
     "output_type": "stream",
     "text": [
      "Cost at initial theta (zeros): 81.791\n",
      "Expected cost (approx)       : 0.693\n",
      "\n",
      "Gradient at initial theta (zeros) - first five values only:\n",
      "Expected gradients (approx) - first five values only:\n",
      "\t[0.0085, 0.0188, 0.0001, 0.0503, 0.0115]\n",
      "\n",
      "Cost at test theta    : 291.92\n",
      "Expected cost (approx): 3.16\n",
      "\n",
      "Gradient at test theta - first five values only:\n",
      "Expected gradients (approx) - first five values only:\n",
      "\t[0.3460, 0.1614, 0.1948, 0.2269, 0.0922]\n"
     ]
    }
   ],
   "source": [
    "def costFunctionReg(theta, X, y, lambda_):\n",
    "    \n",
    "   \n",
    "    m = y.size  \n",
    "\n",
    "  \n",
    "    J = 0\n",
    "    grad = np.zeros(theta.shape)\n",
    "\n",
    "    hyp = sigmoid(np.dot(X, theta)) \n",
    "    \n",
    "    J =  1/m * np.sum((-y * np.log(hyp)) + (-(1 - y) * np.log(1 - hyp))) + lambda_ / (2 * m) * np.sum(np.square(theta[1:]))\n",
    "    \n",
    "\n",
    "    grad = 1/m * np.dot(X.T, (hyp - y)) \n",
    "\n",
    "    return J, grad\n",
    "\n",
    "initial_theta = np.zeros(X.shape[1])\n",
    "\n",
    "\n",
    "lambda_ = 1\n",
    "\n",
    "cost, grad = costFunctionReg(initial_theta, X, y, lambda_)\n",
    "\n",
    "print('Cost at initial theta (zeros): {:.3f}'.format(cost))\n",
    "print('Expected cost (approx)       : 0.693\\n')\n",
    "\n",
    "print('Gradient at initial theta (zeros) - first five values only:')\n",
    "\n",
    "print('Expected gradients (approx) - first five values only:')\n",
    "print('\\t[0.0085, 0.0188, 0.0001, 0.0503, 0.0115]\\n')\n",
    "\n",
    "test_theta = np.ones(X.shape[1])\n",
    "cost, grad = costFunctionReg(test_theta, X, y, 10)\n",
    "\n",
    "print('Cost at test theta    : {:.2f}'.format(cost))\n",
    "print('Expected cost (approx): 3.16\\n')\n",
    "\n",
    "print('Gradient at test theta - first five values only:')\n",
    "\n",
    "print('Expected gradients (approx) - first five values only:')\n",
    "print('\\t[0.3460, 0.1614, 0.1948, 0.2269, 0.0922]')"
   ]
  }
 ],
 "metadata": {
  "kernelspec": {
   "display_name": "Python 3 (ipykernel)",
   "language": "python",
   "name": "python3"
  },
  "language_info": {
   "codemirror_mode": {
    "name": "ipython",
    "version": 3
   },
   "file_extension": ".py",
   "mimetype": "text/x-python",
   "name": "python",
   "nbconvert_exporter": "python",
   "pygments_lexer": "ipython3",
   "version": "3.9.12"
  }
 },
 "nbformat": 4,
 "nbformat_minor": 5
}
